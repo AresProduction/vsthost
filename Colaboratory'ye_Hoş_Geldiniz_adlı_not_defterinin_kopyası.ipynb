{
  "cells": [
    {
      "cell_type": "markdown",
      "metadata": {
        "id": "view-in-github",
        "colab_type": "text"
      },
      "source": [
        "<a href=\"https://colab.research.google.com/github/AresProduction/vsthost/blob/main/Colaboratory'ye_Ho%C5%9F_Geldiniz_adl%C4%B1_not_defterinin_kopyas%C4%B1.ipynb\" target=\"_parent\"><img src=\"https://colab.research.google.com/assets/colab-badge.svg\" alt=\"Open In Colab\"/></a>"
      ]
    },
    {
      "cell_type": "code",
      "source": [
        "# Install the mido library\n",
        "!pip install mido\n",
        "\n",
        "# Import the mido library\n",
        "import mido\n",
        "\n",
        "# Define the mapping between Korg and Medeli style sections\n",
        "korg_to_medeli_mapping = {\n",
        "    \"Intro 1\": \"Int1\",\n",
        "    \"Intro 2\": \"Int2\",\n",
        "    \"Intro Count\": \"Int3\",\n",
        "    \"Var1\": \"Main1\",\n",
        "    \"Var2\": \"Main2\",\n",
        "    \"Var3\": \"Main3\",\n",
        "    \"Var4\": \"Main4\",\n",
        "    \"Fill1\": \"Fill1\",\n",
        "    \"Fill2\": \"Fill2\",\n",
        "    \"Fill3\": \"Fill3\",\n",
        "    \"End1\": \"End1\",\n",
        "    \"End2\": \"End2\",\n",
        "    \"End3\": \"End3\"\n",
        "}\n",
        "\n",
        "# Function to convert a Korg style file to a Medeli style file\n",
        "def convert_korg_style_to_medeli(input_file, output_file):\n",
        "    \"\"\"\n",
        "    Converts a Korg style file to a Medeli style file.\n",
        "\n",
        "    Args:\n",
        "        input_file (str): The path to the input Korg style file.\n",
        "        output_file (str): The path to the output Medeli style file.\n",
        "    \"\"\"\n",
        "    try:\n",
        "        # Read the Korg style file\n",
        "        korg_style = mido.MidiFile(input_file)\n",
        "\n",
        "        # Create a new Medeli style file\n",
        "        medeli_style = mido.MidiFile()\n",
        "\n",
        "        # Create a track for the Medeli style data\n",
        "        medeli_track = mido.MidiTrack()\n",
        "        medeli_style.tracks.append(medeli_track)\n",
        "\n",
        "        # Iterate through the tracks in the Korg style file\n",
        "        for korg_track in korg_style.tracks:\n",
        "            # Create a new track for Medeli style data\n",
        "            medeli_track = mido.MidiTrack()\n",
        "            medeli_style.tracks.append(medeli_track)\n",
        "\n",
        "            # Iterate through the messages in the Korg track\n",
        "            for message in korg_track:\n",
        "                # Handle program change messages\n",
        "                if message.type == 'program_change':\n",
        "                    # Map the Korg program number to the Medeli program number\n",
        "                    medeli_program_number = korg_to_medeli_mapping.get(message.program, message.program)\n",
        "                    medeli_track.append(mido.Message('program_change', program=medeli_program_number))\n",
        "\n",
        "                # Handle other MIDI messages\n",
        "                else:\n",
        "                    medeli_track.append(message)\n",
        "\n",
        "        # Write the Medeli style file to disk\n",
        "        medeli_style.save(output_file)\n",
        "        print(\"Conversion completed successfully!\")\n",
        "    except Exception as e:\n",
        "        print(f\"Error during conversion: {e}\")\n",
        "\n",
        "# Test scenario\n",
        "input_file = \"example_korg_style.sty\"\n",
        "output_file = \"example_medeli_style.stl\"\n",
        "convert_korg_style_to_medeli(input_file, output_file)\n"
      ],
      "metadata": {
        "id": "GrY1-PRR1LO8",
        "outputId": "a108c9ff-de00-4bd1-8676-6946af9d96c0",
        "colab": {
          "base_uri": "https://localhost:8080/"
        }
      },
      "execution_count": null,
      "outputs": [
        {
          "output_type": "stream",
          "name": "stdout",
          "text": [
            "Collecting mido\n",
            "  Downloading mido-1.3.2-py3-none-any.whl (54 kB)\n",
            "\u001b[?25l     \u001b[90m━━━━━━━━━━━━━━━━━━━━━━━━━━━━━━━━━━━━━━━━\u001b[0m \u001b[32m0.0/54.6 kB\u001b[0m \u001b[31m?\u001b[0m eta \u001b[36m-:--:--\u001b[0m\r\u001b[2K     \u001b[90m━━━━━━━━━━━━━━━━━━━━━━━━━━━━━━━━━━━━━━━━\u001b[0m \u001b[32m54.6/54.6 kB\u001b[0m \u001b[31m1.7 MB/s\u001b[0m eta \u001b[36m0:00:00\u001b[0m\n",
            "\u001b[?25hRequirement already satisfied: packaging~=23.1 in /usr/local/lib/python3.10/dist-packages (from mido) (23.2)\n",
            "Installing collected packages: mido\n",
            "Successfully installed mido-1.3.2\n",
            "Error during conversion: [Errno 2] No such file or directory: 'example_korg_style.sty'\n"
          ]
        }
      ]
    }
  ],
  "metadata": {
    "colab": {
      "provenance": [],
      "include_colab_link": true
    },
    "kernelspec": {
      "display_name": "Python 3",
      "name": "python3"
    }
  },
  "nbformat": 4,
  "nbformat_minor": 0
}